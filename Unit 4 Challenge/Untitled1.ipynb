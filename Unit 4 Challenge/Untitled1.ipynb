{
 "cells": [
  {
   "cell_type": "code",
   "execution_count": 96,
   "id": "0575481e",
   "metadata": {},
   "outputs": [
    {
     "ename": "SyntaxError",
     "evalue": "invalid syntax (1829046831.py, line 15)",
     "output_type": "error",
     "traceback": [
      "\u001b[0;36m  File \u001b[0;32m\"/var/folders/0v/zqvk24gd1m76nnhnwfjv6mqh0000gn/T/ipykernel_12645/1829046831.py\"\u001b[0;36m, line \u001b[0;32m15\u001b[0m\n\u001b[0;31m    if list[i] *2 = heights[h]\u001b[0m\n\u001b[0m                  ^\u001b[0m\n\u001b[0;31mSyntaxError\u001b[0m\u001b[0;31m:\u001b[0m invalid syntax\n"
     ]
    }
   ],
   "source": [
    "import heapq\n",
    "heights = [100, 2, 300, 10, 11, 1000]\n",
    "maxim = heapq.nlargest(3,heights)\n",
    "list1=[]\n",
    "for h in heights:\n",
    "    for m in maxim:\n",
    "        if m == h:\n",
    "            list1.append(h//2)\n",
    "            \n",
    "        else:\n",
    "            list1.append(h)\n",
    "        \n",
    "        \n",
    "            \n",
    "        \n",
    "            \n",
    "print(list1)\n",
    "\n",
    "            \n",
    "            \n",
    "\n",
    "            "
   ]
  },
  {
   "cell_type": "code",
   "execution_count": null,
   "id": "201cd649",
   "metadata": {},
   "outputs": [],
   "source": []
  },
  {
   "cell_type": "code",
   "execution_count": 40,
   "id": "1f5090f4",
   "metadata": {},
   "outputs": [
    {
     "name": "stdout",
     "output_type": "stream",
     "text": [
      "4\n",
      "3\n",
      "3\n",
      "3\n",
      "[[0, 0, 0], [0, 0, 1], [0, 0, 2], [0, 1, 0], [0, 1, 1], [0, 1, 3], [0, 2, 0], [0, 2, 2], [0, 2, 3], [0, 3, 1], [0, 3, 2], [0, 3, 3], [0, 4, 0], [0, 4, 1], [0, 4, 2], [0, 4, 3], [1, 0, 0], [1, 0, 1], [1, 0, 3], [1, 1, 0], [1, 1, 2], [1, 1, 3], [1, 2, 1], [1, 2, 2], [1, 2, 3], [1, 3, 0], [1, 3, 1], [1, 3, 2], [1, 3, 3], [1, 4, 0], [1, 4, 1], [1, 4, 2], [1, 4, 3], [2, 0, 0], [2, 0, 2], [2, 0, 3], [2, 1, 1], [2, 1, 2], [2, 1, 3], [2, 2, 0], [2, 2, 1], [2, 2, 2], [2, 2, 3], [2, 3, 0], [2, 3, 1], [2, 3, 2], [2, 3, 3], [2, 4, 0], [2, 4, 1], [2, 4, 2], [2, 4, 3], [3, 0, 1], [3, 0, 2], [3, 0, 3], [3, 1, 0], [3, 1, 1], [3, 1, 2], [3, 1, 3], [3, 2, 0], [3, 2, 1], [3, 2, 2], [3, 2, 3], [3, 3, 0], [3, 3, 1], [3, 3, 2], [3, 3, 3], [3, 4, 0], [3, 4, 1], [3, 4, 2], [3, 4, 3], [4, 0, 0], [4, 0, 1], [4, 0, 2], [4, 0, 3], [4, 1, 0], [4, 1, 1], [4, 1, 2], [4, 1, 3], [4, 2, 0], [4, 2, 1], [4, 2, 2], [4, 2, 3], [4, 3, 0], [4, 3, 1], [4, 3, 2], [4, 3, 3], [4, 4, 0], [4, 4, 1], [4, 4, 2], [4, 4, 3]]\n"
     ]
    }
   ],
   "source": [
    "x = int(input())\n",
    "y = int(input())\n",
    "z = int(input())\n",
    "n = int(input())\n",
    "    \n",
    "print([[a,b,c] for a in range(x+1) for b in range(y+1) for c in range(z+1) if sum([a,b,c]) != n])\n"
   ]
  },
  {
   "cell_type": "code",
   "execution_count": 44,
   "id": "7d10501a",
   "metadata": {},
   "outputs": [
    {
     "name": "stdout",
     "output_type": "stream",
     "text": [
      "10\n",
      "eugenio\n",
      "23\n",
      "12\n",
      "32\n",
      "32\n",
      "1\n",
      "2\n",
      "123\n",
      "4\n",
      "\n"
     ]
    },
    {
     "ename": "ValueError",
     "evalue": "could not convert string to float: ''",
     "output_type": "error",
     "traceback": [
      "\u001b[0;31m---------------------------------------------------------------------------\u001b[0m",
      "\u001b[0;31mValueError\u001b[0m                                Traceback (most recent call last)",
      "\u001b[0;32m/var/folders/0v/zqvk24gd1m76nnhnwfjv6mqh0000gn/T/ipykernel_12645/519476644.py\u001b[0m in \u001b[0;36m<module>\u001b[0;34m\u001b[0m\n\u001b[1;32m      1\u001b[0m \u001b[0;32mfor\u001b[0m \u001b[0mx\u001b[0m \u001b[0;32min\u001b[0m \u001b[0mrange\u001b[0m\u001b[0;34m(\u001b[0m\u001b[0mint\u001b[0m\u001b[0;34m(\u001b[0m\u001b[0minput\u001b[0m\u001b[0;34m(\u001b[0m\u001b[0;34m)\u001b[0m\u001b[0;34m)\u001b[0m\u001b[0;34m)\u001b[0m\u001b[0;34m:\u001b[0m\u001b[0;34m\u001b[0m\u001b[0;34m\u001b[0m\u001b[0m\n\u001b[1;32m      2\u001b[0m         \u001b[0mname\u001b[0m \u001b[0;34m=\u001b[0m \u001b[0minput\u001b[0m\u001b[0;34m(\u001b[0m\u001b[0;34m)\u001b[0m\u001b[0;34m\u001b[0m\u001b[0;34m\u001b[0m\u001b[0m\n\u001b[0;32m----> 3\u001b[0;31m         \u001b[0mscore\u001b[0m \u001b[0;34m=\u001b[0m \u001b[0mfloat\u001b[0m\u001b[0;34m(\u001b[0m\u001b[0minput\u001b[0m\u001b[0;34m(\u001b[0m\u001b[0;34m)\u001b[0m\u001b[0;34m)\u001b[0m\u001b[0;34m\u001b[0m\u001b[0;34m\u001b[0m\u001b[0m\n\u001b[0m",
      "\u001b[0;31mValueError\u001b[0m: could not convert string to float: ''"
     ]
    }
   ],
   "source": [
    "for x in range(int(input())):\n",
    "        name = input()\n",
    "        score = float(input())"
   ]
  },
  {
   "cell_type": "code",
   "execution_count": 57,
   "id": "2bce3fc5",
   "metadata": {},
   "outputs": [
    {
     "name": "stdout",
     "output_type": "stream",
     "text": [
      "5\n",
      "mark\n",
      "37.21\n",
      "berry\n",
      "37.21\n",
      "tina\n",
      "37.2\n",
      "akriti\n",
      "41\n",
      "harsh\n",
      "39\n",
      "[['mark', 37.21], ['berry', 37.21], ['tina', 37.2], ['akriti', 41.0], ['harsh', 39.0]]\n",
      "[37.21, 37.21, 37.2, 41.0, 39.0]\n",
      "[37.2, 37.21, 39.0, 41.0]\n",
      "37.21\n",
      "['mark', 'berry']\n",
      "berry\n",
      "mark\n"
     ]
    }
   ],
   "source": [
    "n = int(input())\n",
    "res = []\n",
    "score=[]\n",
    "for i in range(n):\n",
    "    name = input()\n",
    "    grade = float(input())\n",
    "    res.append([name,grade])\n",
    "    score.append(grade)\n",
    "print(res)\n",
    "print(score)\n",
    "score = sorted(set(score)) #sorted unique elements\n",
    "print(score)\n",
    "m = score[1]\n",
    "print(m)\n",
    "name=[]\n",
    "for val in res: \n",
    "    if m==val[1]:\n",
    "        name.append(val[0])\n",
    "print(name)\n",
    "name.sort()\n",
    "for nm in name:\n",
    "    print(nm)\n",
    "    \n",
    "\n",
    "\n",
    "\n"
   ]
  },
  {
   "cell_type": "code",
   "execution_count": null,
   "id": "f40e76a1",
   "metadata": {},
   "outputs": [],
   "source": [
    "import heapq\n",
    "heights = [100, 2, 300, 10, 11, 1000]\n",
    "maxim = heapq.nlargest(3,heights)\n",
    "list1=heights\n",
    "\n",
    "print(list1)\n"
   ]
  },
  {
   "cell_type": "markdown",
   "id": "f1cce2d5",
   "metadata": {},
   "source": []
  }
 ],
 "metadata": {
  "kernelspec": {
   "display_name": "Python 3 (ipykernel)",
   "language": "python",
   "name": "python3"
  },
  "language_info": {
   "codemirror_mode": {
    "name": "ipython",
    "version": 3
   },
   "file_extension": ".py",
   "mimetype": "text/x-python",
   "name": "python",
   "nbconvert_exporter": "python",
   "pygments_lexer": "ipython3",
   "version": "3.9.13"
  }
 },
 "nbformat": 4,
 "nbformat_minor": 5
}
